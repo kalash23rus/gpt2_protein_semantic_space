{
  "nbformat": 4,
  "nbformat_minor": 0,
  "metadata": {
    "colab": {
      "provenance": []
    },
    "kernelspec": {
      "name": "python3",
      "display_name": "Python 3"
    },
    "language_info": {
      "name": "python"
    },
    "accelerator": "GPU",
    "gpuClass": "standard"
  },
  "cells": [
    {
      "cell_type": "code",
      "source": [
        "! pip install transformers"
      ],
      "metadata": {
        "id": "VQ4IHsXysjwe"
      },
      "execution_count": null,
      "outputs": []
    },
    {
      "cell_type": "code",
      "execution_count": null,
      "metadata": {
        "id": "zBqTROb7sKyY"
      },
      "outputs": [],
      "source": [
        "from transformers import pipeline, AutoTokenizer\n",
        "import torch\n",
        "import pandas as pd\n",
        "import seaborn as sns\n",
        "import matplotlib.pyplot as plt\n",
        "# Check if a GPU is available and set the device\n",
        "device_idx = 0 if torch.cuda.is_available() else -1\n",
        "protgpt2 = pipeline('text-generation', model=\"nferruz/ProtGPT2\", device=device_idx)\n"
      ]
    },
    {
      "cell_type": "code",
      "source": [],
      "metadata": {
        "id": "_IzvTgtZ2pz1"
      },
      "execution_count": null,
      "outputs": []
    },
    {
      "cell_type": "code",
      "source": [
        "tokenizer = ProtGPT2Tokenizer.from_pretrained(\"nferruz/ProtGPT2\")\n",
        "config = ProtGPT2Config.from_pretrained(\"nferruz/ProtGPT2\")\n",
        "config.num_labels = num_labels  # Set the number of labels for your task\n",
        "model = ProtGPT2LMHeadModel.from_pretrained(\"nferruz/ProtGPT2\", config=config)"
      ],
      "metadata": {
        "id": "tngtTJ922mas"
      },
      "execution_count": null,
      "outputs": []
    },
    {
      "cell_type": "code",
      "source": [
        "seq_mom = \"SSDTATSKLSGMTG\""
      ],
      "metadata": {
        "id": "4UEGZjY6vEHa"
      },
      "execution_count": null,
      "outputs": []
    },
    {
      "cell_type": "code",
      "source": [
        "%%time\n",
        "sequences = protgpt2(f\"<|endoftext|>\",\n",
        "                     max_length=1000,\n",
        "                     do_sample=True,\n",
        "                     top_k=950,\n",
        "                    #  top_p=2,\n",
        "                     repetition_penalty=1.2,\n",
        "                     num_return_sequences=20,\n",
        "                     eos_token_id=0,\n",
        "                    #  temperature=0.0\n",
        "                     )"
      ],
      "metadata": {
        "colab": {
          "base_uri": "https://localhost:8080/"
        },
        "id": "U4zeEr7Xsii3",
        "outputId": "787fb644-d063-4ccc-ff91-9ff7547d42a8"
      },
      "execution_count": null,
      "outputs": [
        {
          "output_type": "stream",
          "name": "stderr",
          "text": [
            "Setting `pad_token_id` to `eos_token_id`:0 for open-end generation.\n",
            "A decoder-only architecture is being used, but right-padding was detected! For correct generation results, please set `padding_side='left'` when initializing the tokenizer.\n"
          ]
        },
        {
          "output_type": "stream",
          "name": "stdout",
          "text": [
            "CPU times: user 22.6 s, sys: 1.19 s, total: 23.8 s\n",
            "Wall time: 25.5 s\n"
          ]
        }
      ]
    },
    {
      "cell_type": "code",
      "source": [
        "for seq in sequences:\n",
        "  print(seq)\n",
        "  break"
      ],
      "metadata": {
        "colab": {
          "base_uri": "https://localhost:8080/"
        },
        "id": "t61jfrT3whZc",
        "outputId": "4013022d-0c4d-41bd-f6fa-74279eb0e5bc"
      },
      "execution_count": null,
      "outputs": [
        {
          "output_type": "stream",
          "name": "stdout",
          "text": [
            "{'generated_text': '<|endoftext|>\\nMAGRESSGKNTCENRSLIPTRPGSCCFTNSPICPWWDWYCQWSVKVSSPPTVASPCSIRA\\nDDTWISNWPMKNSCACRISFGSSSPRPIVSAWRRLPATVCCPSSRSPRWTTIKASSSTSS\\nAAGRAASSWTRRRMTTSTTPIASGTSSGDRSGTSGPVRVWWLRWRPMRWVSARPTGWAAT\\nCRPTTRGRSKRPSSRLTTSAPGPMHRWNCCGRSPATSGPQTGGSWSVWRMPSCMRSPVSS\\nTGCSRSSCRAXFRMSLITSLSHWRRPFWVRPAVPSGRLPTIWPWRRCATPATSRAHTPSP\\nSLPTTSRSRRWSSWTASMAAPGWRAGSAASRIRVRRSSSSTGLRAPSTRPSRSATWAWTN\\nLSRSRGGRFCTACRRVTSPSPSGSSGSRPTRWCAAARSRAAPTRARSRFRASWRWKRPAK\\nTAGGGCTSAASRSRTGSRPRRSACRMPSRWRCATPRPGRNPRCRPRPRASSGASRRRRRT\\nGPVVTPLRVLIPAAGMGRRMGASRQKLLLPLGGKPVLAHVLETFLAAEEVDGIVAVVGPA\\nDVAACRATVAAYSAVKPVRVVVGGARRQDSVHRGLLALPPDAPWVLIHDGARPFVTPALI\\nQRCLEAGRRHGAAVLGVPVKDTVKAVSAQDCVIRTVNRPELWQVQTPQVFRGPLLLEAHR\\nRAVAEGFTGTDDASLVERAGHPVRLVEGEPDNIKVTTPEDLVMAEAVLAHRTGGV\\n'}\n"
          ]
        }
      ]
    },
    {
      "cell_type": "code",
      "source": [
        "seq['generated_text'].replace(\"\\n\",\"\")"
      ],
      "metadata": {
        "colab": {
          "base_uri": "https://localhost:8080/",
          "height": 109
        },
        "id": "lIf5YAKLWyyZ",
        "outputId": "6cc5342e-1d64-4fe6-9725-b7eae31b12db"
      },
      "execution_count": null,
      "outputs": [
        {
          "output_type": "execute_result",
          "data": {
            "text/plain": [
              "'<|endoftext|>MAGRESSGKNTCENRSLIPTRPGSCCFTNSPICPWWDWYCQWSVKVSSPPTVASPCSIRADDTWISNWPMKNSCACRISFGSSSPRPIVSAWRRLPATVCCPSSRSPRWTTIKASSSTSSAAGRAASSWTRRRMTTSTTPIASGTSSGDRSGTSGPVRVWWLRWRPMRWVSARPTGWAATCRPTTRGRSKRPSSRLTTSAPGPMHRWNCCGRSPATSGPQTGGSWSVWRMPSCMRSPVSSTGCSRSSCRAXFRMSLITSLSHWRRPFWVRPAVPSGRLPTIWPWRRCATPATSRAHTPSPSLPTTSRSRRWSSWTASMAAPGWRAGSAASRIRVRRSSSSTGLRAPSTRPSRSATWAWTNLSRSRGGRFCTACRRVTSPSPSGSSGSRPTRWCAAARSRAAPTRARSRFRASWRWKRPAKTAGGGCTSAASRSRTGSRPRRSACRMPSRWRCATPRPGRNPRCRPRPRASSGASRRRRRTGPVVTPLRVLIPAAGMGRRMGASRQKLLLPLGGKPVLAHVLETFLAAEEVDGIVAVVGPADVAACRATVAAYSAVKPVRVVVGGARRQDSVHRGLLALPPDAPWVLIHDGARPFVTPALIQRCLEAGRRHGAAVLGVPVKDTVKAVSAQDCVIRTVNRPELWQVQTPQVFRGPLLLEAHRRAVAEGFTGTDDASLVERAGHPVRLVEGEPDNIKVTTPEDLVMAEAVLAHRTGGV'"
            ],
            "application/vnd.google.colaboratory.intrinsic+json": {
              "type": "string"
            }
          },
          "metadata": {},
          "execution_count": 90
        }
      ]
    },
    {
      "cell_type": "markdown",
      "source": [
        "# fine tuning"
      ],
      "metadata": {
        "id": "hB-6ZV0J135n"
      }
    },
    {
      "cell_type": "code",
      "source": [
        "\n",
        "# Load the tokenizer for the ProtGPT2 model\n",
        "tokenizer = AutoTokenizer.from_pretrained(\"nferruz/ProtGPT2\", device=device_idx)\n",
        "\n",
        "# Extract the vocabulary\n",
        "vocab = tokenizer.get_vocab()\n",
        "vocab_df = pd.DataFrame.from_dict(vocab,orient=\"index\")\n",
        "vocab_df.reset_index(inplace=True)\n",
        "vocab_df.columns = [\"word\",\"token\"]"
      ],
      "metadata": {
        "id": "331thLKkuPnR"
      },
      "execution_count": null,
      "outputs": []
    },
    {
      "cell_type": "code",
      "source": [
        "vocab_df"
      ],
      "metadata": {
        "colab": {
          "base_uri": "https://localhost:8080/",
          "height": 424
        },
        "id": "_hnzJHWB5QPa",
        "outputId": "3597d911-ae02-4d55-8c62-3fd1dd24e376"
      },
      "execution_count": null,
      "outputs": [
        {
          "output_type": "execute_result",
          "data": {
            "text/plain": [
              "          word  token\n",
              "0         NIEL  14233\n",
              "1         EIAV  43651\n",
              "2          ATS    841\n",
              "3         RKRE  13777\n",
              "4         AGDL   4371\n",
              "...        ...    ...\n",
              "50252     YTEL  34324\n",
              "50253  KLSGMTG  28996\n",
              "50254     RYIP  36022\n",
              "50255     NEQN  37957\n",
              "50256     SSDT  39696\n",
              "\n",
              "[50257 rows x 2 columns]"
            ],
            "text/html": [
              "\n",
              "  <div id=\"df-89354bb1-cf20-4966-b767-80b3719ff22c\">\n",
              "    <div class=\"colab-df-container\">\n",
              "      <div>\n",
              "<style scoped>\n",
              "    .dataframe tbody tr th:only-of-type {\n",
              "        vertical-align: middle;\n",
              "    }\n",
              "\n",
              "    .dataframe tbody tr th {\n",
              "        vertical-align: top;\n",
              "    }\n",
              "\n",
              "    .dataframe thead th {\n",
              "        text-align: right;\n",
              "    }\n",
              "</style>\n",
              "<table border=\"1\" class=\"dataframe\">\n",
              "  <thead>\n",
              "    <tr style=\"text-align: right;\">\n",
              "      <th></th>\n",
              "      <th>word</th>\n",
              "      <th>token</th>\n",
              "    </tr>\n",
              "  </thead>\n",
              "  <tbody>\n",
              "    <tr>\n",
              "      <th>0</th>\n",
              "      <td>NIEL</td>\n",
              "      <td>14233</td>\n",
              "    </tr>\n",
              "    <tr>\n",
              "      <th>1</th>\n",
              "      <td>EIAV</td>\n",
              "      <td>43651</td>\n",
              "    </tr>\n",
              "    <tr>\n",
              "      <th>2</th>\n",
              "      <td>ATS</td>\n",
              "      <td>841</td>\n",
              "    </tr>\n",
              "    <tr>\n",
              "      <th>3</th>\n",
              "      <td>RKRE</td>\n",
              "      <td>13777</td>\n",
              "    </tr>\n",
              "    <tr>\n",
              "      <th>4</th>\n",
              "      <td>AGDL</td>\n",
              "      <td>4371</td>\n",
              "    </tr>\n",
              "    <tr>\n",
              "      <th>...</th>\n",
              "      <td>...</td>\n",
              "      <td>...</td>\n",
              "    </tr>\n",
              "    <tr>\n",
              "      <th>50252</th>\n",
              "      <td>YTEL</td>\n",
              "      <td>34324</td>\n",
              "    </tr>\n",
              "    <tr>\n",
              "      <th>50253</th>\n",
              "      <td>KLSGMTG</td>\n",
              "      <td>28996</td>\n",
              "    </tr>\n",
              "    <tr>\n",
              "      <th>50254</th>\n",
              "      <td>RYIP</td>\n",
              "      <td>36022</td>\n",
              "    </tr>\n",
              "    <tr>\n",
              "      <th>50255</th>\n",
              "      <td>NEQN</td>\n",
              "      <td>37957</td>\n",
              "    </tr>\n",
              "    <tr>\n",
              "      <th>50256</th>\n",
              "      <td>SSDT</td>\n",
              "      <td>39696</td>\n",
              "    </tr>\n",
              "  </tbody>\n",
              "</table>\n",
              "<p>50257 rows × 2 columns</p>\n",
              "</div>\n",
              "      <button class=\"colab-df-convert\" onclick=\"convertToInteractive('df-89354bb1-cf20-4966-b767-80b3719ff22c')\"\n",
              "              title=\"Convert this dataframe to an interactive table.\"\n",
              "              style=\"display:none;\">\n",
              "        \n",
              "  <svg xmlns=\"http://www.w3.org/2000/svg\" height=\"24px\"viewBox=\"0 0 24 24\"\n",
              "       width=\"24px\">\n",
              "    <path d=\"M0 0h24v24H0V0z\" fill=\"none\"/>\n",
              "    <path d=\"M18.56 5.44l.94 2.06.94-2.06 2.06-.94-2.06-.94-.94-2.06-.94 2.06-2.06.94zm-11 1L8.5 8.5l.94-2.06 2.06-.94-2.06-.94L8.5 2.5l-.94 2.06-2.06.94zm10 10l.94 2.06.94-2.06 2.06-.94-2.06-.94-.94-2.06-.94 2.06-2.06.94z\"/><path d=\"M17.41 7.96l-1.37-1.37c-.4-.4-.92-.59-1.43-.59-.52 0-1.04.2-1.43.59L10.3 9.45l-7.72 7.72c-.78.78-.78 2.05 0 2.83L4 21.41c.39.39.9.59 1.41.59.51 0 1.02-.2 1.41-.59l7.78-7.78 2.81-2.81c.8-.78.8-2.07 0-2.86zM5.41 20L4 18.59l7.72-7.72 1.47 1.35L5.41 20z\"/>\n",
              "  </svg>\n",
              "      </button>\n",
              "      \n",
              "  <style>\n",
              "    .colab-df-container {\n",
              "      display:flex;\n",
              "      flex-wrap:wrap;\n",
              "      gap: 12px;\n",
              "    }\n",
              "\n",
              "    .colab-df-convert {\n",
              "      background-color: #E8F0FE;\n",
              "      border: none;\n",
              "      border-radius: 50%;\n",
              "      cursor: pointer;\n",
              "      display: none;\n",
              "      fill: #1967D2;\n",
              "      height: 32px;\n",
              "      padding: 0 0 0 0;\n",
              "      width: 32px;\n",
              "    }\n",
              "\n",
              "    .colab-df-convert:hover {\n",
              "      background-color: #E2EBFA;\n",
              "      box-shadow: 0px 1px 2px rgba(60, 64, 67, 0.3), 0px 1px 3px 1px rgba(60, 64, 67, 0.15);\n",
              "      fill: #174EA6;\n",
              "    }\n",
              "\n",
              "    [theme=dark] .colab-df-convert {\n",
              "      background-color: #3B4455;\n",
              "      fill: #D2E3FC;\n",
              "    }\n",
              "\n",
              "    [theme=dark] .colab-df-convert:hover {\n",
              "      background-color: #434B5C;\n",
              "      box-shadow: 0px 1px 3px 1px rgba(0, 0, 0, 0.15);\n",
              "      filter: drop-shadow(0px 1px 2px rgba(0, 0, 0, 0.3));\n",
              "      fill: #FFFFFF;\n",
              "    }\n",
              "  </style>\n",
              "\n",
              "      <script>\n",
              "        const buttonEl =\n",
              "          document.querySelector('#df-89354bb1-cf20-4966-b767-80b3719ff22c button.colab-df-convert');\n",
              "        buttonEl.style.display =\n",
              "          google.colab.kernel.accessAllowed ? 'block' : 'none';\n",
              "\n",
              "        async function convertToInteractive(key) {\n",
              "          const element = document.querySelector('#df-89354bb1-cf20-4966-b767-80b3719ff22c');\n",
              "          const dataTable =\n",
              "            await google.colab.kernel.invokeFunction('convertToInteractive',\n",
              "                                                     [key], {});\n",
              "          if (!dataTable) return;\n",
              "\n",
              "          const docLinkHtml = 'Like what you see? Visit the ' +\n",
              "            '<a target=\"_blank\" href=https://colab.research.google.com/notebooks/data_table.ipynb>data table notebook</a>'\n",
              "            + ' to learn more about interactive tables.';\n",
              "          element.innerHTML = '';\n",
              "          dataTable['output_type'] = 'display_data';\n",
              "          await google.colab.output.renderOutput(dataTable, element);\n",
              "          const docLink = document.createElement('div');\n",
              "          docLink.innerHTML = docLinkHtml;\n",
              "          element.appendChild(docLink);\n",
              "        }\n",
              "      </script>\n",
              "    </div>\n",
              "  </div>\n",
              "  "
            ]
          },
          "metadata": {},
          "execution_count": 64
        }
      ]
    },
    {
      "cell_type": "code",
      "source": [
        "# Generate example data\n",
        "data = vocab_df[\"word\"].str.len()\n",
        "\n",
        "# Create histogram using Seaborn\n",
        "sns.histplot(data, kde=False)\n",
        "\n",
        "# Add labels and title\n",
        "plt.xlabel('Length of sentence(characher)')\n",
        "plt.ylabel('Count')\n",
        "plt.title('Distribution of Length')\n",
        "\n",
        "# Show the plot\n",
        "plt.show()\n"
      ],
      "metadata": {
        "colab": {
          "base_uri": "https://localhost:8080/",
          "height": 472
        },
        "id": "5XlN2o_z43WV",
        "outputId": "61e74466-3fde-49c2-e6fe-0ad4fd2ed750"
      },
      "execution_count": null,
      "outputs": [
        {
          "output_type": "display_data",
          "data": {
            "text/plain": [
              "<Figure size 640x480 with 1 Axes>"
            ],
            "image/png": "[encoded data removed]"
          },
          "metadata": {}
        }
      ]
    }
  ]
}